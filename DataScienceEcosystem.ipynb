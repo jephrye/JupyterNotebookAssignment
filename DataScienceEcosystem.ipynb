{
 "cells": [
  {
   "cell_type": "markdown",
   "id": "d5700b03-6d6f-4394-a456-284d95205591",
   "metadata": {},
   "source": [
    "# Data Science Tools and Ecosystem"
   ]
  },
  {
   "cell_type": "markdown",
   "id": "68bbadfd-896c-4e2e-9128-9e1281da73e3",
   "metadata": {},
   "source": [
    "## Author\n",
    "Jeffrey"
   ]
  },
  {
   "cell_type": "markdown",
   "id": "c00e5518-bee1-47de-bea1-fb7ced95fe7b",
   "metadata": {},
   "source": [
    "In this notebook, Data Science Tools and Ecosystem are summarized."
   ]
  },
  {
   "cell_type": "markdown",
   "id": "18260c2e-4d4c-4eb9-a0e3-01dc65c53154",
   "metadata": {},
   "source": [
    "***Objectives***\n",
    "* List popular languages for Data Science\n",
    "* List commonly used libraries for Data Science\n",
    "* List commonly used Data Science Tools"
   ]
  },
  {
   "cell_type": "markdown",
   "id": "4b85edec-1802-4ed5-a4de-32763f3371c0",
   "metadata": {},
   "source": [
    "Some of the popular languages that Data Scientists use are:\n",
    "1. R\n",
    "2. Python\n",
    "3. Java\n",
    "4. SQL"
   ]
  },
  {
   "cell_type": "markdown",
   "id": "6b41af47-51fd-4cc7-9002-8797bb7eb115",
   "metadata": {},
   "source": [
    "Some of the commonly  used libraries used by Data Scientists include:\n",
    "1. caret\n",
    "2. panda\n",
    "3. numpy"
   ]
  },
  {
   "cell_type": "markdown",
   "id": "2d761f26-3f3b-4acf-87b7-d8c06d2a51d8",
   "metadata": {},
   "source": [
    "| Data Science Tools |\n",
    "|--------------------|\n",
    "| Jupyter Notebook   |\n",
    "| RStudio            |\n",
    "| Apache Zeppelin    |"
   ]
  },
  {
   "cell_type": "markdown",
   "id": "cc9e2f82-a73d-4ed3-950f-9de79c77001a",
   "metadata": {},
   "source": [
    "### Below are a few examples of evaluating arithmetic expressions in Python"
   ]
  },
  {
   "cell_type": "code",
   "execution_count": null,
   "id": "07d2bd2b-5bc5-4419-bfa2-00de8c393fa1",
   "metadata": {},
   "outputs": [],
   "source": [
    "# This a simple arithmetic expression to mutiply then add integers"
   ]
  },
  {
   "cell_type": "code",
   "execution_count": 1,
   "id": "339c0afd-8424-417f-8ed7-b95f0b25066d",
   "metadata": {},
   "outputs": [
    {
     "data": {
      "text/plain": [
       "17"
      ]
     },
     "execution_count": 1,
     "metadata": {},
     "output_type": "execute_result"
    }
   ],
   "source": [
    "(3*4)+5"
   ]
  },
  {
   "cell_type": "code",
   "execution_count": null,
   "id": "e44a46a7-1038-4499-ac1e-8909a7cf4894",
   "metadata": {},
   "outputs": [],
   "source": [
    "# This will convert 200 minutes to hours by diving by 60"
   ]
  },
  {
   "cell_type": "code",
   "execution_count": 2,
   "id": "4aa898e8-c8d0-4068-876d-e1126ce92580",
   "metadata": {},
   "outputs": [
    {
     "data": {
      "text/plain": [
       "3.3333333333333335"
      ]
     },
     "execution_count": 2,
     "metadata": {},
     "output_type": "execute_result"
    }
   ],
   "source": [
    "200/60"
   ]
  },
  {
   "cell_type": "code",
   "execution_count": null,
   "id": "7dfaf56b-6dc2-4f8e-947f-e4a364eaca39",
   "metadata": {},
   "outputs": [],
   "source": []
  }
 ],
 "metadata": {
  "kernelspec": {
   "display_name": "Python 3 (ipykernel)",
   "language": "python",
   "name": "python3"
  },
  "language_info": {
   "codemirror_mode": {
    "name": "ipython",
    "version": 3
   },
   "file_extension": ".py",
   "mimetype": "text/x-python",
   "name": "python",
   "nbconvert_exporter": "python",
   "pygments_lexer": "ipython3",
   "version": "3.12.4"
  }
 },
 "nbformat": 4,
 "nbformat_minor": 5
}
